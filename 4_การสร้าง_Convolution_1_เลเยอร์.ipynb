{
  "nbformat": 4,
  "nbformat_minor": 0,
  "metadata": {
    "colab": {
      "name": "4. การสร้าง Convolution 1 เลเยอร์.ipynb",
      "provenance": [],
      "private_outputs": true,
      "authorship_tag": "ABX9TyNTPpQkXj+smWeoMDTDXBxz"
    },
    "kernelspec": {
      "name": "python3",
      "display_name": "Python 3"
    }
  },
  "cells": [
    {
      "cell_type": "markdown",
      "metadata": {
        "id": "X7QqrXd2Bf3u",
        "colab_type": "text"
      },
      "source": [
        "### การสร้าง Convolutional เลเยอร์ แรก\n",
        "ในการสร้างเลเยอร์ Convolutional แรก เราจะใช้ `x_image` เป็นอินพุตและสร้างตัวกรอง `num_filters1` ที่แตกต่างกันแต่ละตัวมีความกว้างและความสูงเท่ากับ `filter_size1` ในที่สุดเราต้องการลงตัวอย่างภาพเพื่อให้มีขนาดครึ่งหนึ่งโดยใช้ 2x2 max-pooling"
      ]
    },
    {
      "cell_type": "code",
      "metadata": {
        "id": "8xGw4CfvBf3u",
        "colab_type": "code",
        "colab": {}
      },
      "source": [
        "layer_conv1, weights_conv1 = \\\n",
        "    new_conv_layer(input=x_image,\n",
        "                   num_input_channels=num_channels,\n",
        "                   filter_size=filter_size1,\n",
        "                   num_filters=num_filters1,\n",
        "                   use_pooling=True)"
      ],
      "execution_count": null,
      "outputs": []
    },
    {
      "cell_type": "markdown",
      "metadata": {
        "id": "F9_ISLOjBf3w",
        "colab_type": "text"
      },
      "source": [
        "ทำการตรวจสอบรูปร่างของ Tensopr ที่จะส่งออกโดยเลเยอร์ Convolution มันคือ (?, 14, 14, 16) ซึ่งหมายความว่ามีจำนวนภาพนี่คือเท่าไร? แต่ละภาพกว้าง 14 พิกเซลและสูง 14 พิกเซลและมี 16 ช่องที่แตกต่างกันหนึ่งช่องสำหรับแต่ละช่อง ของตัวกรอง"
      ]
    },
    {
      "cell_type": "code",
      "metadata": {
        "id": "cjVpfCrcBf3w",
        "colab_type": "code",
        "colab": {}
      },
      "source": [
        "layer_conv1"
      ],
      "execution_count": null,
      "outputs": []
    },
    {
      "cell_type": "markdown",
      "metadata": {
        "id": "uslgOMMYBf3y",
        "colab_type": "text"
      },
      "source": [
        "### การสร้าง Convolutional เลเยอร์ 2\n",
        "\n",
        "สร้างเลเยอร์ convolutional ที่สองซึ่งใช้เป็นอินพุตเอาต์พุตจากเลเยอร์ convolutional แรก จำนวนช่องสัญญาณเข้าสอดคล้องกับจำนวนตัวกรองในเลเยอร์ Convolutional แรก"
      ]
    },
    {
      "cell_type": "code",
      "metadata": {
        "id": "xyxGvZw_Bf3z",
        "colab_type": "code",
        "colab": {}
      },
      "source": [
        "layer_conv2, weights_conv2 = \\\n",
        "    new_conv_layer(input=layer_conv1,\n",
        "                   num_input_channels=num_filters1,\n",
        "                   filter_size=filter_size2,\n",
        "                   num_filters=num_filters2,\n",
        "                   use_pooling=True)"
      ],
      "execution_count": null,
      "outputs": []
    },
    {
      "cell_type": "markdown",
      "metadata": {
        "id": "4eKEpe48Bf30",
        "colab_type": "text"
      },
      "source": [
        "ตรวจสอบรูปร่างของ Tensor ที่จะส่งออกจากเลเยอร์ Convolution นี้ รูปร่างคือ (?, 7, 7, 36) โดยที่? อีกครั้งหมายความว่ามีจำนวนภาพโดยพลการโดยแต่ละภาพมีความกว้างและความสูง 7 พิกเซลและมี 36 ช่องสำหรับแต่ละฟิลเตอร์"
      ]
    },
    {
      "cell_type": "code",
      "metadata": {
        "id": "v_5WLfY6Bf30",
        "colab_type": "code",
        "colab": {}
      },
      "source": [
        "layer_conv2"
      ],
      "execution_count": null,
      "outputs": []
    }
  ]
}