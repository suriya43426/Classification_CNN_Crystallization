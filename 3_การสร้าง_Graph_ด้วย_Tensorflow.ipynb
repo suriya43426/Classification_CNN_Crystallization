{
  "nbformat": 4,
  "nbformat_minor": 0,
  "metadata": {
    "colab": {
      "name": "3. การสร้าง Graph ด้วย Tensorflow.ipynb",
      "provenance": [],
      "private_outputs": true,
      "authorship_tag": "ABX9TyOJ9fYVIV8V1U9rbX4Ss0+Q",
      "include_colab_link": true
    },
    "kernelspec": {
      "name": "python3",
      "display_name": "Python 3"
    }
  },
  "cells": [
    {
      "cell_type": "markdown",
      "metadata": {
        "id": "view-in-github",
        "colab_type": "text"
      },
      "source": [
        "<a href=\"https://colab.research.google.com/github/suriya43426/Classification_CNN_Crystallization/blob/master/3_%E0%B8%81%E0%B8%B2%E0%B8%A3%E0%B8%AA%E0%B8%A3%E0%B9%89%E0%B8%B2%E0%B8%87_Graph_%E0%B8%94%E0%B9%89%E0%B8%A7%E0%B8%A2_Tensorflow.ipynb\" target=\"_parent\"><img src=\"https://colab.research.google.com/assets/colab-badge.svg\" alt=\"Open In Colab\"/></a>"
      ]
    },
    {
      "cell_type": "markdown",
      "metadata": {
        "id": "5_a8KiYNBf3h",
        "colab_type": "text"
      },
      "source": [
        "### Helper-function สำหรับการ Flatten เลเยอร์\n",
        "\n",
        "Convolution สร้างเทนเซอร์เอาต์พุตที่มี 4 มิติ เราจะเพิ่มเลเยอร์ที่ Fully Connectted หลังจากเลเยอร์คอนโวลูชั่นดังนั้นเราจำเป็นต้องลดเทนเซอร์ 4 สลัวเป็น 2 สลัวซึ่งสามารถใช้เป็นอินพุตไปยังเลเยอร์ที่เชื่อมต่อแบบเต็มได้"
      ]
    },
    {
      "cell_type": "code",
      "metadata": {
        "id": "T_qZXe0FBf3h",
        "colab_type": "code",
        "colab": {}
      },
      "source": [
        "def flatten_layer(layer):\n",
        "    # Get the shape of the input layer.\n",
        "    layer_shape = layer.get_shape()\n",
        "\n",
        "    # The shape of the input layer is assumed to be:\n",
        "    # layer_shape == [num_images, img_height, img_width, num_channels]\n",
        "\n",
        "    # The number of features is: img_height * img_width * num_channels\n",
        "    # We can use a function from TensorFlow to calculate this.\n",
        "    num_features = layer_shape[1:4].num_elements()\n",
        "    \n",
        "    # Reshape the layer to [num_images, num_features].\n",
        "    # Note that we just set the size of the second dimension\n",
        "    # to num_features and the size of the first dimension to -1\n",
        "    # which means the size in that dimension is calculated\n",
        "    # so the total size of the tensor is unchanged from the reshaping.\n",
        "    layer_flat = tf.reshape(layer, [-1, num_features])\n",
        "\n",
        "    # The shape of the flattened layer is now:\n",
        "    # [num_images, img_height * img_width * num_channels]\n",
        "\n",
        "    # Return both the flattened layer and the number of features.\n",
        "    return layer_flat, num_features"
      ],
      "execution_count": null,
      "outputs": []
    },
    {
      "cell_type": "markdown",
      "metadata": {
        "id": "nVEw076UBf3j",
        "colab_type": "text"
      },
      "source": [
        "### Helper-function สำหรับการสร้าง Fully-Connected เลเยอร์"
      ]
    },
    {
      "cell_type": "markdown",
      "metadata": {
        "id": "Zbs53fftBf3j",
        "colab_type": "text"
      },
      "source": [
        "ฟังก์ชันนี้จะสร้างเลเยอร์ใหม่ที่เชื่อมต่ออย่างสมบูรณ์ในกราฟการคำนวณสำหรับ TensorFlow ไม่มีอะไรคำนวณได้ที่นี่เราแค่เพิ่มสูตรทางคณิตศาสตร์ลงในกราฟ TensorFlow\n",
        "\n",
        "โดยจะสันนิษฐานว่าอินพุตเป็นแบบเทนเซอร์ 2 มิติ`[num_images, num_inputs]`. เอาต์พุตเป็นแบบเทนเซอร์แบบ 2 มิติ `[num_images, num_outputs]`."
      ]
    },
    {
      "cell_type": "code",
      "metadata": {
        "id": "8pC0UiDJBf3k",
        "colab_type": "code",
        "colab": {}
      },
      "source": [
        "def new_fc_layer(input,          # The previous layer.\n",
        "                 num_inputs,     # Num. inputs from prev. layer.\n",
        "                 num_outputs,    # Num. outputs.\n",
        "                 use_relu=True): # Use Rectified Linear Unit (ReLU)?\n",
        "\n",
        "    # Create new weights and biases.\n",
        "    weights = new_weights(shape=[num_inputs, num_outputs])\n",
        "    biases = new_biases(length=num_outputs)\n",
        "\n",
        "    # Calculate the layer as the matrix multiplication of\n",
        "    # the input and weights, and then add the bias-values.\n",
        "    layer = tf.matmul(input, weights) + biases\n",
        "\n",
        "    # Use ReLU?\n",
        "    if use_relu:\n",
        "        layer = tf.nn.relu(layer)\n",
        "\n",
        "    return layer"
      ],
      "execution_count": null,
      "outputs": []
    },
    {
      "cell_type": "markdown",
      "metadata": {
        "id": "bwkhsuthBf3m",
        "colab_type": "text"
      },
      "source": [
        "### Placeholder variables"
      ]
    },
    {
      "cell_type": "markdown",
      "metadata": {
        "id": "fszE3AAmBf3m",
        "colab_type": "text"
      },
      "source": [
        "ตัวแปรตัวยึดทำหน้าที่เป็นอินพุตของกราฟการคำนวณ TensorFlow ที่เราอาจเปลี่ยนแปลงทุกครั้งที่เราเรียกใช้กราฟ เราเรียกสิ่งนี้ว่าการให้อาหารตัวแปรตัวยึดตำแหน่งและแสดงเพิ่มเติมด้านล่าง\n",
        "\n",
        "อันดับแรกเรากำหนดตัวแปรตัวยึดตำแหน่งสำหรับภาพที่ป้อน สิ่งนี้ช่วยให้เราสามารถเปลี่ยนภาพที่ป้อนลงในกราฟ TensorFlow นี่คือสิ่งที่เรียกว่าเทนเซอร์ซึ่งหมายความว่ามันเป็นเวกเตอร์หรือเมทริกซ์หลายมิติ ชนิดข้อมูลถูกตั้งค่าเป็น `float32` และรูปร่างถูกตั้งค่าเป็น `[None, img_size_flat]`โดยที่`None` หมายความว่า Tensor อาจเก็บภาพได้ตามจำนวนที่กำหนดโดยแต่ละภาพเป็นเวกเตอร์ที่มีความยาว `img_size_flat`."
      ]
    },
    {
      "cell_type": "code",
      "metadata": {
        "id": "vG_vYpRrBf3m",
        "colab_type": "code",
        "colab": {}
      },
      "source": [
        "x = tf.placeholder(tf.float32, shape=[None, img_size_flat], name='x')"
      ],
      "execution_count": null,
      "outputs": []
    },
    {
      "cell_type": "markdown",
      "metadata": {
        "id": "6q-W3bfrBf3o",
        "colab_type": "text"
      },
      "source": [
        "Convolution Layer คาดว่า x จะถูกเข้ารหัสเป็น Tensor 4 มิติดังนั้นเราจึงต้องจัดรูปแบบใหม่เพื่อให้รูปร่างของ instead`[num_images, img_height, img_width, num_channels]`. แทน โปรดทราบว่า `img_height == img_width == img_size` และ `num_images`สามารถอนุมานได้โดยอัตโนมัติโดยใช้ -1 สำหรับขนาดของมิติแรก ดังนั้นการดำเนินการก่อร่างใหม่คือ:\n"
      ]
    },
    {
      "cell_type": "code",
      "metadata": {
        "id": "8fkPRhINBf3o",
        "colab_type": "code",
        "colab": {}
      },
      "source": [
        "x_image = tf.reshape(x, [-1, img_size, img_size, num_channels])"
      ],
      "execution_count": null,
      "outputs": []
    },
    {
      "cell_type": "markdown",
      "metadata": {
        "id": "bDIam0ZCBf3q",
        "colab_type": "text"
      },
      "source": [
        "ต่อไปเรามีตัวแปร placeholder variable สำหรับ labels แบบจริง ซึ่งเกี่ยวข้องกับภาพที่ป้อนในตัวแปรตัวยึดตำแหน่ง `x` รูปร่างของตัวแปรตัวยึดตำแหน่งนี้คือ `[None, num_classes]` ซึ่งหมายความว่าอาจมีจำนวน labels โดยพลการและแต่ละ labels เป็นเวกเตอร์ของความยาว`num_classes` ซึ่งเป็น 10 ในกรณีนี้"
      ]
    },
    {
      "cell_type": "code",
      "metadata": {
        "id": "Htm-sHZvBf3q",
        "colab_type": "code",
        "colab": {}
      },
      "source": [
        "y_true = tf.placeholder(tf.float32, shape=[None, num_classes], name='y_true')"
      ],
      "execution_count": null,
      "outputs": []
    },
    {
      "cell_type": "markdown",
      "metadata": {
        "id": "MfJpGb59Bf3s",
        "colab_type": "text"
      },
      "source": [
        "เราสามารถมีตัวแปรตัว placeholder สำหรับหมายเลข class ได้ แต่เราจะคำนวณโดยใช้ argmax แทน โปรดทราบว่านี่เป็นตัวดำเนินการ TensorFlow ดังนั้นจึงไม่มีการคำนวณอะไรในจุดนี้"
      ]
    },
    {
      "cell_type": "code",
      "metadata": {
        "id": "DIr8MEc2Bf3s",
        "colab_type": "code",
        "colab": {}
      },
      "source": [
        "y_true_cls = tf.argmax(y_true, axis=1)"
      ],
      "execution_count": null,
      "outputs": []
    }
  ]
}