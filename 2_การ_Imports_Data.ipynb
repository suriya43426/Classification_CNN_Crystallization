{
  "nbformat": 4,
  "nbformat_minor": 0,
  "metadata": {
    "colab": {
      "name": "2. การ Imports Data.ipynb",
      "provenance": [],
      "private_outputs": true,
      "authorship_tag": "ABX9TyOUTLwJqqYD5jLH3SjrrZNf",
      "include_colab_link": true
    },
    "kernelspec": {
      "name": "python3",
      "display_name": "Python 3"
    }
  },
  "cells": [
    {
      "cell_type": "markdown",
      "metadata": {
        "id": "view-in-github",
        "colab_type": "text"
      },
      "source": [
        "<a href=\"https://colab.research.google.com/github/suriya43426/Classification_CNN_SugarCrystallization/blob/master/2_%E0%B8%81%E0%B8%B2%E0%B8%A3_Imports_Data.ipynb\" target=\"_parent\"><img src=\"https://colab.research.google.com/assets/colab-badge.svg\" alt=\"Open In Colab\"/></a>"
      ]
    },
    {
      "cell_type": "markdown",
      "metadata": {
        "id": "q4uUxtKkBf28",
        "colab_type": "text"
      },
      "source": [
        "## Imports"
      ]
    },
    {
      "cell_type": "code",
      "metadata": {
        "id": "BfGOIowtBf28",
        "colab_type": "code",
        "colab": {}
      },
      "source": [
        "%matplotlib inline\n",
        "import matplotlib.pyplot as plt\n",
        "import numpy as np\n",
        "from sklearn.metrics import confusion_matrix\n",
        "import time\n",
        "from datetime import timedelta\n",
        "import math"
      ],
      "execution_count": null,
      "outputs": []
    },
    {
      "cell_type": "code",
      "metadata": {
        "id": "z43ChuyKGdOz",
        "colab_type": "code",
        "colab": {}
      },
      "source": [
        "!pip install MNIST"
      ],
      "execution_count": null,
      "outputs": []
    },
    {
      "cell_type": "code",
      "metadata": {
        "id": "43_NIZJUBf2_",
        "colab_type": "code",
        "colab": {}
      },
      "source": [
        "# Use TensorFlow v.2 with this old v.1 code.\n",
        "# E.g. placeholder variables and sessions have changed in TF2.\n",
        "import tensorflow.compat.v1 as tf\n",
        "tf.disable_v2_behavior()"
      ],
      "execution_count": null,
      "outputs": []
    },
    {
      "cell_type": "markdown",
      "metadata": {
        "id": "IvjIPACCBf3F",
        "colab_type": "text"
      },
      "source": [
        "## Configuration \n",
        "\n",
        "คอนฟิกูเรชันของ Convolutional Neural Network ถูกกำหนดไว้ที่นี่เพื่อความสะดวกคุณจึงสามารถค้นหาและเปลี่ยนแปลงตัวเลขเหล่านี้และเรียกใช้โน้ตบุ๊กใหม่ได้อย่างง่ายดาย"
      ]
    },
    {
      "cell_type": "code",
      "metadata": {
        "id": "hSUKH5yDBf3G",
        "colab_type": "code",
        "colab": {}
      },
      "source": [
        "# Convolutional Layer 1.\n",
        "filter_size1 = 5          # Convolution filters are 5 x 5 pixels.\n",
        "num_filters1 = 16         # There are 16 of these filters.\n",
        "\n",
        "# Convolutional Layer 2.\n",
        "filter_size2 = 5          # Convolution filters are 5 x 5 pixels.\n",
        "num_filters2 = 36         # There are 36 of these filters.\n",
        "\n",
        "# Fully-connected layer.\n",
        "fc_size = 128             # Number of neurons in fully-connected layer."
      ],
      "execution_count": null,
      "outputs": []
    },
    {
      "cell_type": "markdown",
      "metadata": {
        "id": "8tCqkYNcBf3I",
        "colab_type": "text"
      },
      "source": [
        "## Load Data"
      ]
    },
    {
      "cell_type": "markdown",
      "metadata": {
        "id": "JFx7dlq2Bf3I",
        "colab_type": "text"
      },
      "source": [
        "[link text](https://) ชุดข้อมูล MNIST มีขนาดประมาณ 12 MB และจะถูกดาวน์โหลดโดยอัตโนมัติหากไม่ได้อยู่ในเส้นทางที่กำหนด"
      ]
    },
    {
      "cell_type": "code",
      "metadata": {
        "id": "Lz4gkxpVBf3J",
        "colab_type": "code",
        "colab": {}
      },
      "source": [
        "from mnist import MNIST\n",
        "data = MNIST(data_dir=\"data/MNIST/\")"
      ],
      "execution_count": null,
      "outputs": []
    },
    {
      "cell_type": "markdown",
      "metadata": {
        "id": "6uhYtDV4Bf3M",
        "colab_type": "text"
      },
      "source": [
        "ตอนนี้ชุดข้อมูล MNIST ได้รับการโหลดแล้วและประกอบด้วยรูปภาพ 70,000 ภาพและหมายเลขคลาสสำหรับรูปภาพ ชุดข้อมูลแบ่งออกเป็น 3 ชุดย่อยที่ไม่ซ้ำกัน เราจะใช้การฝึกอบรมและชุดทดสอบในบทช่วยสอนนี้เท่านั้น"
      ]
    },
    {
      "cell_type": "code",
      "metadata": {
        "scrolled": true,
        "id": "X9gfaRwNBf3M",
        "colab_type": "code",
        "colab": {}
      },
      "source": [
        "print(\"Size of:\")\n",
        "print(\"- Training-set:\\t\\t{}\".format(data.num_train))\n",
        "print(\"- Validation-set:\\t{}\".format(data.num_val))\n",
        "print(\"- Test-set:\\t\\t{}\".format(data.num_test))"
      ],
      "execution_count": null,
      "outputs": []
    },
    {
      "cell_type": "markdown",
      "metadata": {
        "id": "I55661HfBf3O",
        "colab_type": "text"
      },
      "source": [
        "คัดลอกมิติข้อมูลบางส่วนเพื่อความสะดวก"
      ]
    },
    {
      "cell_type": "code",
      "metadata": {
        "id": "zCMoRQ65Bf3P",
        "colab_type": "code",
        "colab": {}
      },
      "source": [
        "# The number of pixels in each dimension of an image.\n",
        "img_size = data.img_size\n",
        "\n",
        "# The images are stored in one-dimensional arrays of this length.\n",
        "img_size_flat = data.img_size_flat\n",
        "\n",
        "# Tuple with height and width of images used to reshape arrays.\n",
        "img_shape = data.img_shape\n",
        "\n",
        "# Number of classes, one class for each of 10 digits.\n",
        "num_classes = data.num_classes\n",
        "\n",
        "# Number of colour channels for the images: 1 channel for gray-scale.\n",
        "num_channels = data.num_channels"
      ],
      "execution_count": null,
      "outputs": []
    },
    {
      "cell_type": "markdown",
      "metadata": {
        "id": "GbKVqa5ZBf3R",
        "colab_type": "text"
      },
      "source": [
        "### Helper-function for plotting images"
      ]
    },
    {
      "cell_type": "markdown",
      "metadata": {
        "id": "IFWo5r9-Bf3R",
        "colab_type": "text"
      },
      "source": [
        "ฟังก์ชั่นที่ใช้ในการพล็อตภาพ 9 ภาพในตาราง 3x3 และเขียนคลาสจริงและที่คาดการณ์ไว้ด้านล่างแต่ละภาพ"
      ]
    },
    {
      "cell_type": "code",
      "metadata": {
        "id": "EPtH7n9wBf3S",
        "colab_type": "code",
        "colab": {}
      },
      "source": [
        "def plot_images(images, cls_true, cls_pred=None):\n",
        "    assert len(images) == len(cls_true) == 9\n",
        "    \n",
        "    # Create figure with 3x3 sub-plots.\n",
        "    fig, axes = plt.subplots(3, 3)\n",
        "    fig.subplots_adjust(hspace=0.3, wspace=0.3)\n",
        "\n",
        "    for i, ax in enumerate(axes.flat):\n",
        "        # Plot image.\n",
        "        ax.imshow(images[i].reshape(img_shape), cmap='binary')\n",
        "\n",
        "        # Show true and predicted classes.\n",
        "        if cls_pred is None:\n",
        "            xlabel = \"True: {0}\".format(cls_true[i])\n",
        "        else:\n",
        "            xlabel = \"True: {0}, Pred: {1}\".format(cls_true[i], cls_pred[i])\n",
        "\n",
        "        # Show the classes as the label on the x-axis.\n",
        "        ax.set_xlabel(xlabel)\n",
        "        \n",
        "        # Remove ticks from the plot.\n",
        "        ax.set_xticks([])\n",
        "        ax.set_yticks([])\n",
        "    \n",
        "    # Ensure the plot is shown correctly with multiple plots\n",
        "    # in a single Notebook cell.\n",
        "    plt.show()"
      ],
      "execution_count": null,
      "outputs": []
    },
    {
      "cell_type": "markdown",
      "metadata": {
        "id": "OeCP4SBABf3V",
        "colab_type": "text"
      },
      "source": [
        "### พล็อตภาพสองสามภาพเพื่อดูว่าข้อมูลถูกต้องหรือไม่"
      ]
    },
    {
      "cell_type": "code",
      "metadata": {
        "id": "3eQQqO5DBf3W",
        "colab_type": "code",
        "colab": {}
      },
      "source": [
        "# Get the first images from the test-set.\n",
        "images = data.x_test[0:9]\n",
        "\n",
        "# Get the true classes for those images.\n",
        "cls_true = data.y_test_cls[0:9]\n",
        "\n",
        "# Plot the images and labels using our helper-function above.\n",
        "plot_images(images=images, cls_true=cls_true)"
      ],
      "execution_count": null,
      "outputs": []
    }
  ]
}