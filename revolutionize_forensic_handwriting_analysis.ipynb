{
  "nbformat": 4,
  "nbformat_minor": 0,
  "metadata": {
    "kernelspec": {
      "language": "python",
      "display_name": "Python 3",
      "name": "python3"
    },
    "language_info": {
      "pygments_lexer": "ipython3",
      "nbconvert_exporter": "python",
      "version": "3.6.4",
      "file_extension": ".py",
      "codemirror_mode": {
        "name": "ipython",
        "version": 3
      },
      "name": "python",
      "mimetype": "text/x-python"
    },
    "colab": {
      "name": "revolutionize-forensic-handwriting-analysis.ipynb",
      "provenance": [],
      "include_colab_link": true
    }
  },
  "cells": [
    {
      "cell_type": "markdown",
      "metadata": {
        "id": "view-in-github",
        "colab_type": "text"
      },
      "source": [
        "<a href=\"https://colab.research.google.com/github/suriya43426/SuperAI_-_Convolutional_Neural_Network/blob/master/revolutionize_forensic_handwriting_analysis.ipynb\" target=\"_parent\"><img src=\"https://colab.research.google.com/assets/colab-badge.svg\" alt=\"Open In Colab\"/></a>"
      ]
    },
    {
      "cell_type": "markdown",
      "metadata": {
        "id": "U7B7d_9ndN_b"
      },
      "source": [
        " # AI are Revolutionize forensic handwriting analysis  based on generative adversarial networks. (GANs)"
      ]
    },
    {
      "cell_type": "markdown",
      "metadata": {
        "id": "aQZfrkC_dN_b"
      },
      "source": [
        "### Handwritten signature has been an important identity-verification method since ancient times. Compared with manual handwriting verification, the use of computer image recognition technology for handwriting verification is faster and avoids subjectivity. However, there are still some challenges in traditional image recognition methods, such as feature selection, lack of a standard basis, and low accuracy. For the first time, generative adversarial nets (GAN) technology is adopted to study the task of handwritten signature identification. A special network SIGAN (Signature Identification GAN, SIGAN)is proposed based on the idea of dual learning. The loss value of the trained discriminator of SIGAN is used as the identification threshold. The authenticity of the test handwritten signature is determined by comparing the threshold and loss value of the test image obtained through the network. The experimental data set in this study consists of five hard pen-type signatures, which include some real signatures and some deliberate imitations."
      ]
    },
    {
      "cell_type": "markdown",
      "metadata": {
        "id": "lDtkx2pQdN_b"
      },
      "source": [
        "![](https://zefort.com/wp-content/uploads/2018/11/signatures.jpg)"
      ]
    },
    {
      "cell_type": "markdown",
      "metadata": {
        "id": "X58r2PL7dN_b"
      },
      "source": [
        "# GANs\n",
        "### Generative Adversarial Networks, or GANs, are deep learning architecture generative models that have seen wide success.There are thousands of papers on GANs and many hundreds of named-GANs, that is, models with a defined name that often includes “GAN“, such as DCGAN, as opposed to a minor extension to the method. Given the vast size of the GAN literature and number of models, it can be, at the very least, confusing and frustrating as to know what GAN models to focus on. In this post, you will discover the Generative Adversarial Network models that you need to know to establish a useful and productive foundation in the field."
      ]
    },
    {
      "cell_type": "markdown",
      "metadata": {
        "id": "PWBSyXGCdN_b"
      },
      "source": [
        "![](https://3qeqpr26caki16dnhd19sv6by6v-wpengine.netdna-ssl.com/wp-content/uploads/2019/05/Example-of-the-Architecture-for-the-Stacked-Generative-Adversarial-Network-for-Text-to-Image-Generation-1024x462.png)"
      ]
    },
    {
      "cell_type": "code",
      "metadata": {
        "trusted": true,
        "_uuid": "457c8128a0d1b8b87625e42b6796f52fd0441406",
        "id": "2rzGDhmsdN_b"
      },
      "source": [
        "import os\n",
        "import numpy as np\n",
        "import matplotlib.pyplot as plt\n",
        "import cv2\n",
        "\n",
        "import keras\n",
        "import keras.backend as K\n",
        "import tensorflow as tf\n",
        "from keras import applications\n",
        "from keras.models import Model\n",
        "from keras.layers import Flatten, Dense, Input,concatenate\n",
        "from keras.optimizers import Adam\n",
        "from keras.models import load_model, model_from_json\n",
        "\n",
        "import random\n",
        "#from PIL import Image, ImageChops"
      ],
      "execution_count": null,
      "outputs": []
    },
    {
      "cell_type": "code",
      "metadata": {
        "trusted": true,
        "_uuid": "9cff639e3cb35d510d6fc8d08803f3afacbdfc70",
        "id": "Ksta9XZ4dN_b"
      },
      "source": [
        "gen=\"../input/handwritten-signatures/sample_signature/sample_Signature/genuine\"\n",
        "forg=\"../input/handwritten-signatures/sample_signature/sample_Signature/forged\"\n",
        "\n",
        "gentr=\"../input/sigcomp-2009-train/sigcomp 2009 train/Sigcomp 2009 train/genuine\"\n",
        "forgtr=\"../input/sigcomp-2009-train/sigcomp 2009 train/Sigcomp 2009 train/forgeries\"\n",
        "\n",
        "gent=\"../input/sigcomp-2009/sigcomp 2009/genuines\"\n",
        "forgt=\"../input/sigcomp-2009/sigcomp 2009/forgeries\""
      ],
      "execution_count": null,
      "outputs": []
    },
    {
      "cell_type": "code",
      "metadata": {
        "trusted": true,
        "_uuid": "137ad333bcbf9f7d4a33d3c369d5e32e4b1a093f",
        "id": "wyQvWoZtdN_c"
      },
      "source": [
        "img_width, img_height, channels = 224, 224, 3\n",
        "\n",
        "dim = (img_width, img_height)\n",
        "\n",
        "def to_rgb(img):\n",
        "    img = cv2.resize(img, dim, interpolation = cv2.INTER_AREA) \n",
        "    img_rgb = np.asarray(np.dstack((img, img, img)), dtype=np.uint8)\n",
        "    return img_rgb\n",
        "\n",
        "def returnimages(path,img):\n",
        "    image=cv2.imread(path+\"/\"+ img)                  #bringing the image\n",
        "    image=cv2.resize(image, (img_width, img_height))\n",
        "    image=cv2.cvtColor(image, cv2.COLOR_BGR2GRAY)\n",
        "    image=to_rgb(image).reshape(1,img_width, img_height,3)/255.0       #resizing and normalizing    \n",
        "    return image     \n",
        "\n",
        "def getfiles(num,gen,forg):\n",
        "    a=os.listdir(gen)\n",
        "    b=os.listdir(forg)\n",
        "    c=str(num)\n",
        "    c=c[2:]\n",
        "    if(len(c)==2):\n",
        "        c=c+\"0\"\n",
        "    \n",
        "    n,m=[],[]\n",
        "    for i in b:\n",
        "        if i.endswith(c+\".png\"):\n",
        "            n=n+[i]\n",
        "        elif i.endswith(c+\".PNG\"):\n",
        "            n=n+[i]\n",
        "    for i in a:\n",
        "        if i.endswith(c+\".png\"):\n",
        "            m=m+[i]\n",
        "        elif i.endswith(c+\".PNG\"):\n",
        "            m=m+[i]\n",
        "    return m.pop(),n,m\n",
        "\n",
        "def getfiles2(num):\n",
        "    a=os.listdir(gentr)\n",
        "    b=os.listdir(forgtr)\n",
        "    c=str(num)\n",
        "    c=c[2:]\n",
        "    if(len(c)==2):\n",
        "        c=c+\"0\"\n",
        "    n,m=[],[]\n",
        "    for i in b:\n",
        "        if (i.endswith(c+\"_001_6g.png\") or i.endswith(c+\"_002_6g.png\") or i.endswith(c+\"_003_6g.png\")\n",
        "            or i.endswith(c+\"_004_6g.png\") or i.endswith(c+\"_005_6g.png\")):\n",
        "            n=n+[i]\n",
        "        elif (i.endswith(c+\"_001_6g.PNG\") or i.endswith(c+\"_002_6g.PNG\") or i.endswith(c+\"_003_6g.PNG\")\n",
        "              or i.endswith(c+\"_004_6g.PNG\") or i.endswith(c+\"_005_6g.PNG\")):\n",
        "            n=n+[i]\n",
        "    for i in a:\n",
        "        if (i.endswith(c+\"_001_6g.png\") or i.endswith(c+\"_002_6g.png\") or i.endswith(c+\"_003_6g.png\")\n",
        "            or i.endswith(c+\"_004_6g.png\") or i.endswith(c+\"_005_6g.png\")):\n",
        "            m=m+[i]\n",
        "        elif (i.endswith(c+\"_001_6g.PNG\") or i.endswith(c+\"_002_6g.PNG\") or i.endswith(c+\"_003_6g.PNG\")\n",
        "              or i.endswith(c+\"_004_6g.PNG\") or i.endswith(c+\"_005_6g.PNG\")):\n",
        "            m=m+[i]\n",
        "    return m.pop(),n,m\n",
        "\n"
      ],
      "execution_count": null,
      "outputs": []
    },
    {
      "cell_type": "code",
      "metadata": {
        "trusted": true,
        "_uuid": "1f393a960808ce3ae109f652596c119234569929",
        "id": "VwFCLxtYdN_c"
      },
      "source": [
        "def triplet_loss(y_true, y_pred):\n",
        "    alpha = 0.5 #whatt is the alpha\n",
        "    anchor, positive, negative =y_pred[0,0:512], y_pred[0,512:1024], y_pred[0,1024:1536]# why do we take the same cell twice?\n",
        "    #i mean, 0:512, 512:1024 overlap while 0:511, 512:1023 from the testing file didn't\n",
        "    \n",
        "    positive_distance = K.mean(K.square(anchor - positive),axis=-1)\n",
        "    negative_distance = K.mean(K.square(anchor - negative),axis=-1)\n",
        "    return K.mean(K.maximum(0.0, positive_distance - negative_distance + alpha))"
      ],
      "execution_count": null,
      "outputs": []
    },
    {
      "cell_type": "code",
      "metadata": {
        "trusted": true,
        "_uuid": "a09db907a57305044ee9704496b0baeab0fcfc7f",
        "id": "MF2dYKUUdN_c"
      },
      "source": [
        "model = applications.vgg19.VGG19(weights='imagenet', include_top=False, pooling='max')\n",
        "#what are these options exactly"
      ],
      "execution_count": null,
      "outputs": []
    },
    {
      "cell_type": "code",
      "metadata": {
        "trusted": true,
        "_uuid": "678fd9c5a2e7e9a65801419bdbba678b627bc6ee",
        "id": "5YEyUGqZdN_c"
      },
      "source": [
        "for layer in model.layers[:15]:\n",
        "    #why are just the top 15 not trainable\n",
        "    layer.trainable = False"
      ],
      "execution_count": null,
      "outputs": []
    },
    {
      "cell_type": "code",
      "metadata": {
        "trusted": true,
        "_uuid": "a8df697932a42e3d3a4de7b628fa714de636672c",
        "id": "s6XkfHzudN_c"
      },
      "source": [
        "anchor_in = Input(shape=(img_width, img_height, channels))\n",
        "pos_in = Input(shape=(img_width, img_height, channels))\n",
        "neg_in = Input(shape=(img_width, img_height, channels))\n",
        "\n",
        "#what exactly are these? I heard about siamese nets, but what about this anchor out ?\n",
        "\n",
        "anchor_out = model(anchor_in)\n",
        "pos_out = model(pos_in)\n",
        "neg_out = model(neg_in)\n",
        "merged_vector = concatenate([anchor_out, pos_out, neg_out],axis=1)"
      ],
      "execution_count": null,
      "outputs": []
    },
    {
      "cell_type": "code",
      "metadata": {
        "trusted": true,
        "_uuid": "6895eb65489e99a300ff26a22bcc9f2f861a7954",
        "id": "ESgmZWwedN_c"
      },
      "source": [
        "model = Model(inputs=[anchor_in, pos_in, neg_in], outputs=merged_vector)"
      ],
      "execution_count": null,
      "outputs": []
    },
    {
      "cell_type": "code",
      "metadata": {
        "trusted": true,
        "_uuid": "027c3ea08b5899817d170e023ade9d3ba5f91ee3",
        "id": "IzKxcpnadN_c"
      },
      "source": [
        "model.compile(optimizer=Adam(lr=0.000005),loss=triplet_loss)\n",
        "#lr is learning rate i think - why this number"
      ],
      "execution_count": null,
      "outputs": []
    },
    {
      "cell_type": "code",
      "metadata": {
        "trusted": true,
        "_uuid": "ff91094e0df6512056bc32dda716681523128370",
        "id": "aVrSlXgQdN_c"
      },
      "source": [
        "def generator():\n",
        "    for i in range(1,31):\n",
        "        if(i<10):\n",
        "            anc,neg,pos=getfiles(float(\"0.00\"+str(i)),gen,forg)\n",
        "        else:\n",
        "            anc,neg,pos=getfiles(float(\"0.0\"+str(i)),gen,forg)\n",
        "        for i in range(len(neg)):\n",
        "            for j in range(len(pos)):\n",
        "                anchor=returnimages(gen,anc)\n",
        "                positive=returnimages(gen,pos[j])\n",
        "                negative=returnimages(forg,neg[i])\n",
        "               # yield ([anc,pos[j],neg[i]],[0])\n",
        "                yield ([anchor,positive,negative],[0])"
      ],
      "execution_count": null,
      "outputs": []
    },
    {
      "cell_type": "code",
      "metadata": {
        "trusted": true,
        "_uuid": "63886c6513ed93c4aef5948709a1526b7805b41d",
        "scrolled": true,
        "id": "snCEWu_FdN_c"
      },
      "source": [
        "for x in range(2):\n",
        "    model.fit_generator(generator(),steps_per_epoch=200,epochs=3)"
      ],
      "execution_count": null,
      "outputs": []
    },
    {
      "cell_type": "code",
      "metadata": {
        "trusted": true,
        "_uuid": "d1da456878abf6805e1553787c5edeb2732b661a",
        "id": "GFu4lsq_dN_c"
      },
      "source": [
        ""
      ],
      "execution_count": null,
      "outputs": []
    },
    {
      "cell_type": "code",
      "metadata": {
        "trusted": true,
        "_uuid": "795a8d9749c7dfa0ec9dba7811192c3a47a21fdf",
        "id": "6cgqaJyVdN_c"
      },
      "source": [
        "model.compile(optimizer=Adam(lr=0.000002),loss=triplet_loss)"
      ],
      "execution_count": null,
      "outputs": []
    },
    {
      "cell_type": "code",
      "metadata": {
        "trusted": true,
        "_uuid": "f6566cfba2425a96bd98558e8b10b3880862266a",
        "id": "T088UdlDdN_c"
      },
      "source": [
        "def generator2():\n",
        "    x=[\"0.001\",\"0.004\", \"0.005\", \"0.006\", \"0.007\",\n",
        "       \"0.008\", \"0.009\", \"0.010\", \"0.011\", \"0.001\", \"0.010\"]\n",
        "    #what is this array, why do we take °1 twice (0.001)\n",
        "  #  x=[\"0.001\", \"0.004\", \"0.006\", \"0.010\"]\n",
        "\n",
        "    for k in x:\n",
        "        anc,neg,pos=getfiles2(k)\n",
        "        frac=0.95 #what is this\n",
        "        inds = set(random.sample(list(range(len(neg))), int(frac*len(neg))))\n",
        "        neg = [n for i,n in enumerate(neg) if i not in inds]\n",
        "    \n",
        "        for i in range(len(neg)):\n",
        "            for j in range(len(pos)):\n",
        "                anchor=returnimages(gentr,anc)\n",
        "                positive=returnimages(gentr,pos[j])\n",
        "                negative=returnimages(forgtr,neg[i])\n",
        "               # yield ([anc,pos[j],neg[i]])\n",
        "                yield ([anchor,positive,negative],[0])"
      ],
      "execution_count": null,
      "outputs": []
    },
    {
      "cell_type": "code",
      "metadata": {
        "trusted": true,
        "_uuid": "d31556b88d8eb42a38acb6e5cd2b7f2fe4d06ec4",
        "id": "VU48L13OdN_c"
      },
      "source": [
        "for x in range(2):\n",
        "    model.fit_generator(generator2(),steps_per_epoch=32,epochs=11)\n",
        "    \n",
        "    #why do we fit the model twice"
      ],
      "execution_count": null,
      "outputs": []
    },
    {
      "cell_type": "code",
      "metadata": {
        "trusted": true,
        "_uuid": "083730c5a1391421b3150e4d710be5020fe6e655",
        "id": "UoaYfYEPdN_c"
      },
      "source": [
        "tneg,tpos=0,0\n",
        "x=[0.002, 0.008, 0.016, 0.018, 0.024, 0.033, 0.035, 0.044, 0.046, 0.063,\n",
        "   0.070, 0.071, 0.077, 0.084, 0.085, 0.086, 0.089, 0.092, 0.093]\n",
        "for k in x: #the id of signatures you want to check\n",
        "    #print(\"When k is \", k)\n",
        "    anc,neg,pos=getfiles(k,gent,forgt)\n",
        "    tneg=tneg+len(neg)\n",
        "    tpos=tpos+len(pos)\n",
        "print(tneg,tpos)"
      ],
      "execution_count": null,
      "outputs": []
    },
    {
      "cell_type": "code",
      "metadata": {
        "trusted": true,
        "_uuid": "6f170046a2263ec6f01ebfb24446db32067c3a49",
        "id": "uV87RogydN_c"
      },
      "source": [
        "os.listdir('../working')"
      ],
      "execution_count": null,
      "outputs": []
    },
    {
      "cell_type": "code",
      "metadata": {
        "trusted": true,
        "_uuid": "9f0d5dca740c8e6729089918b780e85c17726203",
        "id": "xP68uj0fdN_c"
      },
      "source": [
        "# Save the weights\n",
        "model.save_weights('model_weights.h5')\n",
        "\n",
        "# Save the model architecture\n",
        "#with open('model_architecture.json', 'w') as f:\n",
        "#    f.write(model.to_json())"
      ],
      "execution_count": null,
      "outputs": []
    },
    {
      "cell_type": "code",
      "metadata": {
        "trusted": true,
        "_uuid": "b56de28559d8ac142520ac3d188a369b192f3f7c",
        "id": "rxCbAGf1dN_c"
      },
      "source": [
        "os.listdir('../working')"
      ],
      "execution_count": null,
      "outputs": []
    },
    {
      "cell_type": "code",
      "metadata": {
        "trusted": true,
        "_uuid": "10ad0b8b91077365cee3938a843101d85bdd9c1d",
        "scrolled": true,
        "id": "u13IMxCqdN_c"
      },
      "source": [
        "forg_passed=0\n",
        "gen_flagged=0\n",
        "x=[0.002, 0.008, 0.016, 0.018, 0.024, 0.033, 0.035, 0.044, 0.046, 0.063,\n",
        "   0.070, 0.071, 0.077, 0.084, 0.085, 0.086, 0.089, 0.092, 0.093]\n",
        "\n",
        "for k in x: #the id of signatures you want to check\n",
        "    print(\"When k is \", k)\n",
        "    anc,neg,pos=getfiles(k,gent,forgt)\n",
        "    \n",
        "    anchor=returnimages(gent,anc)\n",
        "    for i in range(len(pos)): #pos\n",
        "        positive=returnimages(gent,pos[i])\n",
        "        x=model.predict([anchor,positive,anchor])\n",
        "        a, p, useless = x[0,0:512], x[0,512:1024], x[0,1024:1536]\n",
        "        #what are the useless parameters\n",
        "        #dist=sum(a-p)\n",
        "        dist=np.linalg.norm(a-p)\n",
        "        #print(\"positive distance is \",dist)\n",
        "        if(dist>32):\n",
        "        #  print(\"0\")\n",
        "            gen_flagged=gen_flagged+1\n",
        "            print(\"gen flagged - \",dist, \"file name is - \", pos[i])\n",
        "            \n",
        "        else:\n",
        "            gen_flagged=gen_flagged\n",
        "        #   print(\"1\")\n",
        "        \n",
        "    for j in range(len(neg)): #neg\n",
        "        negative=returnimages(forgt,neg[j])\n",
        "        x=model.predict([anchor,negative,anchor])\n",
        "        a, n, useless = x[0,0:512], x[0,512:1024], x[0,1024:1536]\n",
        "        #dist=sum(a-n)\n",
        "        dist=np.linalg.norm(a-n)\n",
        "        #print(\"negative distance is \",dist)\n",
        "        if(dist>32):\n",
        "            forg_passed=forg_passed\n",
        "          #  print(\"0\")\n",
        "        else:\n",
        "            forg_passed=forg_passed+1\n",
        "            print(\"forg passed - \",dist, \"file name is - \", neg[j])\n",
        "          #  print(\"1\")\n",
        "\n",
        "print(\"forg_passed is \",forg_passed)\n",
        "print(\"gen_flagged is \",gen_flagged)"
      ],
      "execution_count": null,
      "outputs": []
    },
    {
      "cell_type": "code",
      "metadata": {
        "trusted": true,
        "_uuid": "00d347486e3661b94c2272a399d99378945175eb",
        "id": "4ke6dMQWdN_c"
      },
      "source": [
        "def getfilest(num,gen,forg):\n",
        "    a=os.listdir(gen)\n",
        "    b=os.listdir(forg)\n",
        "    c=str(num)\n",
        "    c=c[2:]\n",
        "    if(len(c)==2):\n",
        "        c=c+\"0\"\n",
        "    \n",
        "    n,m=[],[]\n",
        "    for i in b:\n",
        "        if i.endswith(c+\".png\"):\n",
        "            n=n+[i]\n",
        "        elif i.endswith(c+\".PNG\"):\n",
        "            n=n+[i]\n",
        "    for i in a:\n",
        "        if i.endswith(c+\".png\"):\n",
        "            m=m+[i]\n",
        "        elif i.endswith(c+\".PNG\"):\n",
        "            m=m+[i]\n",
        "    return m.pop(),m.pop(),n,m"
      ],
      "execution_count": null,
      "outputs": []
    },
    {
      "cell_type": "code",
      "metadata": {
        "trusted": true,
        "_uuid": "41d3a8746ae16a3ee1671d67893aacc1b2d75f4d",
        "id": "MR7HavQkdN_c"
      },
      "source": [
        "forg_passed=0\n",
        "gen_flagged=0\n",
        "x=[0.002, 0.008, 0.016, 0.018, 0.024, 0.033, 0.035, 0.044, 0.046, 0.063,\n",
        "   0.070, 0.071, 0.077, 0.084, 0.085, 0.086, 0.089, 0.092, 0.093]\n",
        "\n",
        "for k in x: #the id of signatures you want to check\n",
        "    print(\"When k is \", k)\n",
        "    anc1,anc2,neg,pos=getfilest(k,gent,forgt)\n",
        "    \n",
        "    anchor1=returnimages(gent,anc1)\n",
        "    anchor2=returnimages(gent,anc2)\n",
        "    for i in range(len(pos)): #pos\n",
        "        positive=returnimages(gent,pos[i])\n",
        "        x=model.predict([anchor1,positive,anchor2])\n",
        "        a1, p, a2 = x[0,0:512], x[0,512:1024], x[0,1024:1536]\n",
        "        #dist=sum(a-p)\n",
        "        dist1=np.linalg.norm(a1-p)\n",
        "        dist2=np.linalg.norm(a2-p)\n",
        "        dist=(dist1+dist2)/2\n",
        "        #print(\"positive distance is \",dist)\n",
        "        if(dist>32):\n",
        "        #  print(\"0\")\n",
        "            gen_flagged=gen_flagged+1\n",
        "            print(\"gen flagged - \",dist, \"file name is - \", pos[i])\n",
        "            \n",
        "        else:\n",
        "            gen_flagged=gen_flagged\n",
        "        #   print(\"1\")\n",
        "        \n",
        "    for j in range(len(neg)): #neg\n",
        "        negative=returnimages(forgt,neg[j])\n",
        "        x=model.predict([anchor1,negative,anchor2])\n",
        "        a1, n, a2 = x[0,0:512], x[0,512:1024], x[0,1024:1536]\n",
        "        #dist=sum(a-n)\n",
        "        dist1=np.linalg.norm(a1-n)\n",
        "        dist2=np.linalg.norm(a2-n)\n",
        "        #print(\"negative distance is \",dist)\n",
        "        dist=(dist1+dist2)/2\n",
        "        if(dist>32):\n",
        "            forg_passed=forg_passed\n",
        "          #  print(\"0\")\n",
        "        else:\n",
        "            forg_passed=forg_passed+1\n",
        "            print(\"forg passed - \",dist, \"file name is - \", neg[j])\n",
        "          #  print(\"1\")\n",
        "\n",
        "print(\"forg_passed is \",forg_passed)\n",
        "print(\"gen_flagged is \",gen_flagged)"
      ],
      "execution_count": null,
      "outputs": []
    }
  ]
}